{
 "cells": [
  {
   "cell_type": "code",
   "execution_count": 520,
   "metadata": {},
   "outputs": [],
   "source": [
    "import numpy as np\n",
    "import scipy as sp\n",
    "import pandas as pd\n",
    "from pandas import Series, DataFrame\n",
    "\n",
    "import matplotlib.pyplot as plt\n",
    "import matplotlib as mpl\n",
    "import seaborn as sns\n"
   ]
  },
  {
   "cell_type": "code",
   "execution_count": 521,
   "metadata": {},
   "outputs": [],
   "source": [
    "from bs4 import BeautifulSoup \n",
    "import datetime\n",
    "import re\n",
    "import requests\n",
    "import sys\n",
    "import time"
   ]
  },
  {
   "cell_type": "code",
   "execution_count": 522,
   "metadata": {},
   "outputs": [
    {
     "data": {
      "text/plain": [
       "'%.6f'"
      ]
     },
     "execution_count": 522,
     "metadata": {},
     "output_type": "execute_result"
    }
   ],
   "source": [
    "sns.set()\n",
    "%matplotlib inline\n",
    "%precision 6"
   ]
  },
  {
   "cell_type": "code",
   "execution_count": 523,
   "metadata": {},
   "outputs": [],
   "source": [
    "plt.rcParams['font.family'] = 'IPAexGothic'\n",
    "plt.rcParams['font.size'] = 6"
   ]
  },
  {
   "cell_type": "code",
   "execution_count": 524,
   "metadata": {},
   "outputs": [],
   "source": [
    "class PlayerProfile:\n",
    "    def __init__(self, id) -> None:\n",
    "        self._id = id\n",
    "        # Yahooからデータを取得\n",
    "        requests_user_agent = 'Mozilla/5.0 (Macintosh; Intel Mac OS X 10_15_7) AppleWebKit/537.36 (KHTML, like Gecko) Chrome/103.0.0.0 Safari/537.36'\n",
    "        requests_header = {\n",
    "            'User-Agent': requests_user_agent\n",
    "        }\n",
    "        url = f\"https://baseball.yahoo.co.jp/npb/player/{self._id}/\"\n",
    "        print(f\"URL: {url}\")\n",
    "        try: \n",
    "            res = requests.get(url, headers=requests_header)\n",
    "        except requests.exceptions.RequestException as e:\n",
    "            print(\"requests error occur {} ({})\".format(e))\n",
    "        soup = BeautifulSoup(res.text, \"lxml\")\n",
    "        \n",
    "        # チーム名\n",
    "        bb = soup.find(class_='bb-head01__title')\n",
    "        self._team = bb.text if bb else None\n",
    "        # print(f\"チーム: {self._team}\")\n",
    "\n",
    "        # 名前\n",
    "        bb = soup.find(class_='bb-profile__name').find('h1')\n",
    "        self._name = bb.text if bb else None\n",
    "        # print(f\"名前: {self._name}\")\n",
    "        \n",
    "        # ルビ\n",
    "        bb = soup.find(class_='bb-profile__name').find('rt')\n",
    "        if bb:\n",
    "            if match := re.search(r\"（(.+)）\", bb.text):\n",
    "                self._ruby = match.group(1)\n",
    "            else:\n",
    "                self._ruby = None             \n",
    "        else:\n",
    "            self._ruby = None\n",
    "        # print(f\"ふりがな: {self._ruby}\")\n",
    "\n",
    "        # 背番号\n",
    "        bb = soup.find(class_='bb-profile__number')\n",
    "        self._number = bb.text if bb else None\n",
    "        # print(f\"背番号: {self._number}\")\n",
    "\n",
    "        # ボジション\n",
    "        bb = soup.find(class_='bb-profile__position')\n",
    "        self._position = bb.text if bb else None\n",
    "        # print(f\"ボジション: {self._position}\")\n",
    "\n",
    "        # 詳細情報\n",
    "        plist = soup.find_all(class_='bb-profile__list')            \n",
    "\n",
    "        # 出身地\n",
    "        bb = soup.find_all(class_='bb-profile__text')\n",
    "        self._birthplace = bb[0].text if bb[0] else None\n",
    "        # print(f\"出身地: {self._birthplace}\")\n",
    "\n",
    "        # 誕生日\n",
    "        if bb[1]:\n",
    "            if match := re.search(r\"([0-9]+)年([0-9]+)月([0-9]+)日（([0-9]+)歳）\", bb[1].text):\n",
    "                year = int(match.group(1))\n",
    "                month = int(match.group(2))\n",
    "                day = int(match.group(3))\n",
    "                age = int(match.group(4))\n",
    "                self._birthday = f\"{year:04}-{month:02}-{day:02}\"\n",
    "                self._age = age\n",
    "            else:\n",
    "                self._birthday = None\n",
    "                self._age = None\n",
    "        else:\n",
    "            self._birthday = None\n",
    "            self._age = None\n",
    "        # print(f\"誕生日: {self._birthday}\")\n",
    "        # print(f\"年齢: {self._age}\")\n",
    "\n",
    "        # 身長\n",
    "        if bb[2]:\n",
    "            if match := re.search(r\"([0-9]+)cm\", bb[2].text):\n",
    "                self._height = int(match.group(1))\n",
    "            else:\n",
    "                self._height = None\n",
    "        else:\n",
    "            self._height = None\n",
    "        # print(f\"身長: {self._height}\")\n",
    "\n",
    "        # 体重\n",
    "        if bb[3]:\n",
    "            if match := re.search(r\"([0-9]+)kg\", bb[3].text):\n",
    "                self._weight = int(match.group(1))\n",
    "            else:\n",
    "                self._weight = None\n",
    "        else:\n",
    "            self._weight = None\n",
    "        # print(f\"体重: {self._weight}\")\n",
    "\n",
    "        # 血液型\n",
    "        if bb[4]:\n",
    "            if match := re.search(r\"([ABO]+)\", bb[4].text):\n",
    "                self._blood_type = match.group(1)\n",
    "            else:\n",
    "                self._blood_type = None\n",
    "        else:\n",
    "            self._blood_type = None\n",
    "        # print(f\"血液型: {self._blood_type}\")\n",
    "\n",
    "        # 投打\n",
    "        if bb[5]:\n",
    "            if match := re.search(r\"(.)投げ(.)打ち\", bb[5].text):\n",
    "                self._handed_pitch = match.group(1)\n",
    "                self._handed_bat = match.group(2)\n",
    "            else:\n",
    "                self._handed_pitch = None\n",
    "                self._handed_bat = None\n",
    "        else:\n",
    "            self._handed_pitch = None\n",
    "            self._handed_bat = None\n",
    "        # print(f\"投: {self._handed_pitch}\")\n",
    "        # print(f\"打: {self._handed_bat}\")\n",
    "\n",
    "        # 通算年\n",
    "        for pl in plist:\n",
    "            if (pl.find(class_='bb-profile__title').text == 'プロ通算年'):\n",
    "                if match := re.search(r\"([1-9][0-9]*)年\", pl.find(class_='bb-profile__text').text):\n",
    "                    self._year = int(match.group(1))\n",
    "                    break\n",
    "                else:\n",
    "                    self._year = None\n",
    "            else:\n",
    "                self._year = None\n",
    "        # print(f\"通算年: {self._year}\")\n",
    "        pass\n",
    "\n",
    "    \"\"\"\n",
    "    public method\n",
    "    \"\"\"\n",
    "    def profile(self):\n",
    "        # ID チーム名, 背番号, 名前, ふりがな, \n",
    "        return [\n",
    "            self._id, self._team, self._number, self._name, self._ruby,\n",
    "            self._height, self._weight,\n",
    "            self._handed_pitch, self._handed_bat, self._year , \n",
    "            self._birthday, self._age, self._birthplace, self._blood_type\n",
    "        ]\n"
   ]
  },
  {
   "cell_type": "code",
   "execution_count": 525,
   "metadata": {},
   "outputs": [],
   "source": [
    "id=1500110"
   ]
  },
  {
   "cell_type": "code",
   "execution_count": 526,
   "metadata": {},
   "outputs": [
    {
     "name": "stdout",
     "output_type": "stream",
     "text": [
      "URL: https://baseball.yahoo.co.jp/npb/player/1500110/\n"
     ]
    },
    {
     "data": {
      "text/plain": [
       "[1500110,\n",
       " '北海道日本ハムファイターズ',\n",
       " '14',\n",
       " '加藤 貴之',\n",
       " 'カトウ タカユキ',\n",
       " 182,\n",
       " 90,\n",
       " '左',\n",
       " '左',\n",
       " 8,\n",
       " '1992-06-03',\n",
       " 30,\n",
       " '千葉',\n",
       " 'AB']"
      ]
     },
     "execution_count": 526,
     "metadata": {},
     "output_type": "execute_result"
    }
   ],
   "source": [
    "profile = PlayerProfile(id)\n",
    "profile.profile()"
   ]
  },
  {
   "cell_type": "code",
   "execution_count": 527,
   "metadata": {},
   "outputs": [],
   "source": [
    "id = 1660052"
   ]
  },
  {
   "cell_type": "code",
   "execution_count": 528,
   "metadata": {},
   "outputs": [
    {
     "name": "stdout",
     "output_type": "stream",
     "text": [
      "URL: https://baseball.yahoo.co.jp/npb/player/1660052/\n"
     ]
    },
    {
     "data": {
      "text/plain": [
       "[1660052,\n",
       " '北海道日本ハムファイターズ',\n",
       " '42',\n",
       " 'ガント',\n",
       " None,\n",
       " 193,\n",
       " 92,\n",
       " '右',\n",
       " '右',\n",
       " 2,\n",
       " '1992-08-06',\n",
       " 30,\n",
       " 'アメリカ',\n",
       " None]"
      ]
     },
     "execution_count": 528,
     "metadata": {},
     "output_type": "execute_result"
    }
   ],
   "source": [
    "profile = PlayerProfile(id)\n",
    "profile.profile()"
   ]
  },
  {
   "cell_type": "code",
   "execution_count": 529,
   "metadata": {},
   "outputs": [
    {
     "name": "stdout",
     "output_type": "stream",
     "text": [
      "Empty DataFrame\n",
      "Columns: [id, team, number, name, ruby, height, weight, handed bat, handed pitch, pro year, birthday, age, birthplace, blood type]\n",
      "Index: []\n",
      "ID: 1800117\n",
      "URL: https://baseball.yahoo.co.jp/npb/player/1800117/\n",
      "[1800117, '東北楽天ゴールデンイーグルス', '8', '辰己 涼介', 'タツミ リョウスケ', 180, 74, '右', '左', 5, '1996-12-27', 26, '兵庫', 'A']\n",
      "        id            team number   name       ruby  height  weight  \\\n",
      "0  1800117  東北楽天ゴールデンイーグルス      8  辰己 涼介  タツミ リョウスケ     180      74   \n",
      "\n",
      "  handed bat handed pitch  pro year    birthday  age birthplace blood type  \n",
      "0          右            左         5  1996-12-27   26         兵庫          A  \n",
      "ID: 1900112\n",
      "URL: https://baseball.yahoo.co.jp/npb/player/1900112/\n",
      "[1900112, '東北楽天ゴールデンイーグルス', '0', '小深田 大翔', 'コブカタ ヒロト', 168, 69, '右', '左', 4, '1995-09-28', 27, '兵庫', 'O']\n",
      "        id            team number    name      ruby  height  weight  \\\n",
      "0  1900112  東北楽天ゴールデンイーグルス      0  小深田 大翔  コブカタ ヒロト     168      69   \n",
      "\n",
      "  handed bat handed pitch  pro year    birthday  age birthplace blood type  \n",
      "0          右            左         4  1995-09-28   27         兵庫          O  \n",
      "ID: 1460250\n",
      "URL: https://baseball.yahoo.co.jp/npb/player/1460250/\n",
      "[1460250, '東北楽天ゴールデンイーグルス', '23', 'フランコ', None, 185, 105, '右', '右', 1, '1992-08-26', 30, 'ドミニカ共和国', None]\n",
      "        id            team number  name  ruby  height  weight handed bat  \\\n",
      "0  1460250  東北楽天ゴールデンイーグルス     23  フランコ  None     185     105          右   \n",
      "\n",
      "  handed pitch  pro year    birthday  age birthplace blood type  \n",
      "0            右         1  1992-08-26   30    ドミニカ共和国       None  \n",
      "ID: 900056\n",
      "URL: https://baseball.yahoo.co.jp/npb/player/900056/\n",
      "[900056, '東北楽天ゴールデンイーグルス', '3', '浅村 栄斗', 'アサムラ ヒデト', 182, 90, '右', '右', 15, '1990-11-12', 32, '大阪', 'O']\n",
      "       id            team number   name      ruby  height  weight handed bat  \\\n",
      "0  900056  東北楽天ゴールデンイーグルス      3  浅村 栄斗  アサムラ ヒデト     182      90          右   \n",
      "\n",
      "  handed pitch  pro year    birthday  age birthplace blood type  \n",
      "0            右        15  1990-11-12   32         大阪          O  \n",
      "ID: 1100095\n",
      "URL: https://baseball.yahoo.co.jp/npb/player/1100095/\n",
      "[1100095, '北海道日本ハムファイターズ', '7', '松本 剛', 'マツモト ゴウ', 180, 81, '右', '右', 12, '1993-08-11', 29, '埼玉', 'AB']\n",
      "        id           team number  name     ruby  height  weight handed bat  \\\n",
      "0  1100095  北海道日本ハムファイターズ      7  松本 剛  マツモト ゴウ     180      81          右   \n",
      "\n",
      "  handed pitch  pro year    birthday  age birthplace blood type  \n",
      "0            右        12  1993-08-11   29         埼玉         AB  \n",
      "ID: 1251037\n",
      "URL: https://baseball.yahoo.co.jp/npb/player/1251037/\n",
      "[1251037, '北海道日本ハムファイターズ', '4', '上川畑 大悟', 'カミカワバタ ダイゴ', 167, 71, '右', '左', 2, '1997-01-12', 26, '岡山', 'A']\n",
      "        id           team number    name        ruby  height  weight  \\\n",
      "0  1251037  北海道日本ハムファイターズ      4  上川畑 大悟  カミカワバタ ダイゴ     167      71   \n",
      "\n",
      "  handed bat handed pitch  pro year    birthday  age birthplace blood type  \n",
      "0          右            左         2  1997-01-12   26         岡山          A  \n",
      "ID: 1600134\n",
      "URL: https://baseball.yahoo.co.jp/npb/player/1600134/\n",
      "[1600134, '北海道日本ハムファイターズ', '38', '石井 一成', 'イシイ カズナリ', 182, 80, '右', '左', 7, '1994-05-06', 28, '栃木', 'O']\n",
      "        id           team number   name      ruby  height  weight handed bat  \\\n",
      "0  1600134  北海道日本ハムファイターズ     38  石井 一成  イシイ カズナリ     182      80          右   \n",
      "\n",
      "  handed pitch  pro year    birthday  age birthplace blood type  \n",
      "0            左         7  1994-05-06   28         栃木          O  \n",
      "ID: 1100132\n",
      "URL: https://baseball.yahoo.co.jp/npb/player/1100132/\n",
      "[1100132, '東北楽天ゴールデンイーグルス', '35', '島内 宏明', 'シマウチ ヒロアキ', 180, 75, '左', '左', 12, '1990-02-02', 33, '石川', 'B']\n",
      "        id            team number   name       ruby  height  weight  \\\n",
      "0  1100132  東北楽天ゴールデンイーグルス     35  島内 宏明  シマウチ ヒロアキ     180      75   \n",
      "\n",
      "  handed bat handed pitch  pro year    birthday  age birthplace blood type  \n",
      "0          左            左        12  1990-02-02   33         石川          B  \n",
      "ID: 1500078\n",
      "URL: https://baseball.yahoo.co.jp/npb/player/1500078/\n",
      "[1500078, '東北楽天ゴールデンイーグルス', '4', '阿部 寿樹', 'アベ トシキ', 185, 85, '右', '右', 8, '1989-12-03', 33, '岩手', 'B']\n",
      "        id            team number   name    ruby  height  weight handed bat  \\\n",
      "0  1500078  東北楽天ゴールデンイーグルス      4  阿部 寿樹  アベ トシキ     185      85          右   \n",
      "\n",
      "  handed pitch  pro year    birthday  age birthplace blood type  \n",
      "0            右         8  1989-12-03   33         岩手          B  \n",
      "ID: 1700034\n",
      "URL: https://baseball.yahoo.co.jp/npb/player/1700034/\n",
      "[1700034, '東北楽天ゴールデンイーグルス', '34', '山﨑 剛', 'ヤマサキ ツヨシ', 173, 74, '右', '左', 6, '1995-12-29', 27, '福岡', 'AB']\n",
      "        id            team number  name      ruby  height  weight handed bat  \\\n",
      "0  1700034  東北楽天ゴールデンイーグルス     34  山﨑 剛  ヤマサキ ツヨシ     173      74          右   \n",
      "\n",
      "  handed pitch  pro year    birthday  age birthplace blood type  \n",
      "0            左         6  1995-12-29   27         福岡         AB  \n",
      "ID: 1800044\n",
      "URL: https://baseball.yahoo.co.jp/npb/player/1800044/\n",
      "[1800044, '東北楽天ゴールデンイーグルス', '39', '伊藤 裕季也', 'イトウ ユキヤ', 182, 90, '右', '右', 5, '1996-08-30', 26, '三重', 'O']\n",
      "        id            team number    name     ruby  height  weight handed bat  \\\n",
      "0  1800044  東北楽天ゴールデンイーグルス     39  伊藤 裕季也  イトウ ユキヤ     182      90          右   \n",
      "\n",
      "  handed pitch  pro year    birthday  age birthplace blood type  \n",
      "0            右         5  1996-08-30   26         三重          O  \n"
     ]
    }
   ],
   "source": [
    "year = 2023\n",
    "\n",
    "batter_ids = pd.read_csv(f\"../live-stats/batter-{year}.csv\")\n",
    "\n",
    "cols = ['id', 'team', 'number', 'name', 'ruby', 'height', 'weight', 'handed bat', 'handed pitch', 'pro year', 'birthday', 'age', 'birthplace', 'blood type']\n",
    "batters = pd.DataFrame([], columns=cols)\n",
    "print(batters)\n",
    "for i, id in batter_ids.iterrows():\n",
    "    print(f\"ID: {id.values[0]}\")\n",
    "    profile = PlayerProfile(id.values[0])\n",
    "    batter = pd.DataFrame([profile.profile()], columns=cols)\n",
    "    batters = pd.concat([batters, batter])\n",
    "    time.sleep(2)\n",
    "    \n",
    "\n",
    "batters.to_csv(f\"../live-stats/batter-profile-{year}.csv\", index=False)"
   ]
  }
 ],
 "metadata": {
  "kernelspec": {
   "display_name": "Python 3",
   "language": "python",
   "name": "python3"
  },
  "language_info": {
   "codemirror_mode": {
    "name": "ipython",
    "version": 3
   },
   "file_extension": ".py",
   "mimetype": "text/x-python",
   "name": "python",
   "nbconvert_exporter": "python",
   "pygments_lexer": "ipython3",
   "version": "3.8.16"
  },
  "orig_nbformat": 4
 },
 "nbformat": 4,
 "nbformat_minor": 2
}
