{
 "cells": [
  {
   "cell_type": "code",
   "execution_count": 287,
   "metadata": {},
   "outputs": [],
   "source": [
    "import numpy as np\n",
    "import scipy as sp\n",
    "import pandas as pd\n",
    "from pandas import Series, DataFrame\n",
    "\n",
    "import matplotlib.pyplot as plt\n",
    "import matplotlib as mpl\n",
    "import seaborn as sns\n"
   ]
  },
  {
   "cell_type": "code",
   "execution_count": 288,
   "metadata": {},
   "outputs": [
    {
     "data": {
      "text/plain": [
       "'%.6f'"
      ]
     },
     "execution_count": 288,
     "metadata": {},
     "output_type": "execute_result"
    }
   ],
   "source": [
    "pd.set_option('display.max_columns', 50)\n",
    "\n",
    "sns.set()\n",
    "%matplotlib inline\n",
    "%precision 6"
   ]
  },
  {
   "cell_type": "code",
   "execution_count": 289,
   "metadata": {},
   "outputs": [],
   "source": [
    "plt.rcParams['font.family'] = 'IPAexGothic'\n",
    "plt.rcParams['font.size'] = 6"
   ]
  },
  {
   "cell_type": "code",
   "execution_count": 290,
   "metadata": {},
   "outputs": [],
   "source": [
    "date = '2023-04-02'"
   ]
  },
  {
   "cell_type": "code",
   "execution_count": 291,
   "metadata": {},
   "outputs": [],
   "source": [
    "df = pd.read_json(f\"../live-stats/{date}-bat.json\")\n",
    "bats = pd.json_normalize(data=df.to_dict(\"records\"))\n",
    "\n",
    "cols = [\n",
    "    'date', 'visitor', 'home', 'inning_num', 'top_bottom', 'batter_num',\n",
    "    'before_score.top', 'before_score.bottom',\n",
    "    'before_count.b', 'before_count.s', 'before_count.o',\n",
    "    'after_score.top', 'after_score.bottom',\n",
    "    'after_count.b', 'after_count.s', 'after_count.o',\n",
    "    '1b.id', '1b.handed', '1b.name',\n",
    "    '2b.id', '2b.handed', '2b.name',\n",
    "    '3b.id', '3b.handed', '3b.name',\n",
    "    'batter.id', 'batter.handed', 'batter.name', 'pitcher.id', 'pitcher.handed', 'pitcher.name',\n",
    "    'direction', 'result',\n",
    "    ]\n",
    "\n",
    "# 必要なカラムだけ残す\n",
    "bat_results = bats[cols].copy()\n",
    "\n",
    "# IDが入っている塁は1で、ランナーなしは0\n",
    "bat_results['before_1b'] = 0\n",
    "bat_results.loc[bat_results['1b.id'].notna(), 'before_1b'] = 1\n",
    "\n",
    "bat_results['before_2b'] = 0\n",
    "bat_results.loc[bat_results['2b.id'].notna(), 'before_2b'] = 1\n",
    "\n",
    "bat_results['before_3b'] = 0\n",
    "bat_results.loc[bat_results['3b.id'].notna(), 'before_3b'] = 1\n",
    "# print(bat_results.head())"
   ]
  },
  {
   "cell_type": "code",
   "execution_count": 292,
   "metadata": {},
   "outputs": [],
   "source": [
    "# 不要カラムの削除\n",
    "drop_cols = [\n",
    "    '1b.id', '1b.handed', '1b.name',\n",
    "    '2b.id', '2b.handed', '2b.name',\n",
    "    '3b.id', '3b.handed', '3b.name',\n",
    "    'before_count.b', 'before_count.s',\n",
    "    'after_count.b', 'after_count.s',\n",
    "]\n",
    "bat_results.drop(drop_cols, axis=1, inplace=True)\n",
    "# print(bat_results)"
   ]
  },
  {
   "cell_type": "code",
   "execution_count": 293,
   "metadata": {},
   "outputs": [],
   "source": [
    "# 塁情報をshiftしてbeforeをafterに変更\n",
    "ren_cols = {\n",
    "    'before_1b': 'after_1b', 'before_2b': 'after_2b', 'before_3b': 'after_3b',\n",
    "}\n",
    "after_base = bat_results[['before_1b', 'before_2b', 'before_3b']].shift(-1).fillna(0).rename(columns=ren_cols).astype(int)\n",
    "# after_base"
   ]
  },
  {
   "cell_type": "code",
   "execution_count": 294,
   "metadata": {},
   "outputs": [],
   "source": [
    "# カラム名を変更\n",
    "ren_cols = {\n",
    "    'inning_num': 'inning',\n",
    "    'before_count.o': 'before_out', 'after_count.o': 'after_out',\n",
    "    'visitor': 'team.top', 'home': 'team.bottom',\n",
    "    'batter_num': 'batter_number',\n",
    "}\n",
    "bat_results.rename(columns=ren_cols, inplace=True)"
   ]
  },
  {
   "cell_type": "code",
   "execution_count": 295,
   "metadata": {},
   "outputs": [],
   "source": [
    "# データを結合\n",
    "bat_results = pd.concat([bat_results, after_base], axis=1)\n",
    "# bat_results"
   ]
  },
  {
   "cell_type": "code",
   "execution_count": 296,
   "metadata": {},
   "outputs": [],
   "source": [
    "# 得点情報を追加\n",
    "def point(bat):\n",
    "    if bat['top_bottom'] == 1:\n",
    "        return bat['after_score.top'] - bat['before_score.top']\n",
    "    elif bat['top_bottom'] == 2:\n",
    "        return bat['after_score.bottom'] - bat['before_score.bottom']\n",
    "    else:\n",
    "        return 0\n",
    "\n",
    "bat_results['point'] = bat_results.apply(point, axis=1)"
   ]
  },
  {
   "cell_type": "code",
   "execution_count": 297,
   "metadata": {},
   "outputs": [],
   "source": [
    "# カラムの順番を変更\n",
    "re_cols = [\n",
    "    'date', 'team.top', 'team.bottom', 'inning', 'top_bottom', 'batter_number', \n",
    "    'before_score.top', 'before_score.bottom',\n",
    "    'after_score.top', 'after_score.bottom',\n",
    "    'point', \n",
    "    'before_out', 'before_1b', 'before_2b', 'before_3b', \n",
    "    'after_out', 'after_1b', 'after_2b', 'after_3b',\n",
    "    'batter.id', 'batter.handed', 'batter.name' ,\n",
    "    'pitcher.id', 'pitcher.handed', 'pitcher.name',\n",
    "    'direction', 'result',\n",
    "]\n",
    "bat_results = bat_results.reindex(columns=re_cols)"
   ]
  },
  {
   "cell_type": "code",
   "execution_count": 298,
   "metadata": {},
   "outputs": [],
   "source": [
    "# ファイル保存\n",
    "bat_results.to_csv(f\"../live-stats/bat-{date}.csv\", index=False)"
   ]
  }
 ],
 "metadata": {
  "kernelspec": {
   "display_name": "Python 3",
   "language": "python",
   "name": "python3"
  },
  "language_info": {
   "codemirror_mode": {
    "name": "ipython",
    "version": 3
   },
   "file_extension": ".py",
   "mimetype": "text/x-python",
   "name": "python",
   "nbconvert_exporter": "python",
   "pygments_lexer": "ipython3",
   "version": "3.8.16"
  },
  "orig_nbformat": 4
 },
 "nbformat": 4,
 "nbformat_minor": 2
}
